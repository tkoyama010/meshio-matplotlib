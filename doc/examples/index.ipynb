{
 "cells": [
  {
   "cell_type": "markdown",
   "metadata": {},
   "source": [
    "# What we want to do ?"
   ]
  },
  {
   "cell_type": "code",
   "execution_count": 1,
   "metadata": {},
   "outputs": [],
   "source": [
    "%matplotlib inline\n",
    "import meshio\n",
    "import matplotlib\n",
    "import getfem as gf\n",
    "import numpy as np\n",
    "import matplotlib.pyplot as plt"
   ]
  },
  {
   "cell_type": "code",
   "execution_count": 2,
   "metadata": {},
   "outputs": [],
   "source": [
    "m = gf.Mesh(\"cartesian\", np.arange(2), np.arange(2))"
   ]
  },
  {
   "cell_type": "code",
   "execution_count": 3,
   "metadata": {},
   "outputs": [],
   "source": [
    "m.export_to_vtk(\"m.vtk\", \"ascii\")"
   ]
  },
  {
   "cell_type": "code",
   "execution_count": 4,
   "metadata": {},
   "outputs": [
    {
     "name": "stdout",
     "output_type": "stream",
     "text": [
      "# vtk DataFile Version 2.0\n",
      "Exported by getfem++\n",
      "ASCII\n",
      "DATASET UNSTRUCTURED_GRID\n",
      "POINTS 4 float\n",
      " 0 0 0\n",
      " 1 0 0\n",
      " 0 1 0\n",
      " 1 1 0\n",
      "\n",
      "CELLS 1 5\n",
      " 4 0 1 3 2\n",
      "\n",
      "CELL_TYPES 1\n",
      " 9\n"
     ]
    }
   ],
   "source": [
    "!cat m.vtk"
   ]
  },
  {
   "cell_type": "code",
   "execution_count": 5,
   "metadata": {},
   "outputs": [],
   "source": [
    "mesh = meshio.read(\"m.vtk\")"
   ]
  },
  {
   "cell_type": "code",
   "execution_count": 6,
   "metadata": {},
   "outputs": [],
   "source": [
    "points = mesh.points\n",
    "cells = mesh.cells\n",
    "cell = cells[0]\n",
    "index = cell.data[0]"
   ]
  },
  {
   "cell_type": "code",
   "execution_count": 7,
   "metadata": {},
   "outputs": [
    {
     "data": {
      "image/png": "[encoded data removed]",
      "text/plain": [
       "<Figure size 432x288 with 1 Axes>"
      ]
     },
     "metadata": {
      "needs_background": "light"
     },
     "output_type": "display_data"
    }
   ],
   "source": [
    "fig = plt.figure()\n",
    "ax = fig.add_subplot(111)\n",
    "poly = plt.Polygon(\n",
    "    (\n",
    "        (points[index[0], 0], points[index[0], 1]),\n",
    "        (points[index[1], 0], points[index[1], 1]),\n",
    "        (points[index[2], 0], points[index[2], 1]),\n",
    "        (points[index[3], 0], points[index[3], 1]),\n",
    "    ),\n",
    "    fc=\"#000000\",\n",
    ")\n",
    "ax.add_patch(poly)\n",
    "plt.show()"
   ]
  },
  {
   "cell_type": "code",
   "execution_count": null,
   "metadata": {},
   "outputs": [],
   "source": []
  }
 ],
 "metadata": {
  "kernelspec": {
   "display_name": "Python 3",
   "language": "python",
   "name": "python3"
  },
  "language_info": {
   "codemirror_mode": {
    "name": "ipython",
    "version": 3
   },
   "file_extension": ".py",
   "mimetype": "text/x-python",
   "name": "python",
   "nbconvert_exporter": "python",
   "pygments_lexer": "ipython3",
   "version": "3.8.2"
  }
 },
 "nbformat": 4,
 "nbformat_minor": 4
}
