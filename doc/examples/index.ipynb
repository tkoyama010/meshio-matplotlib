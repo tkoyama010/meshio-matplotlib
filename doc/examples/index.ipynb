{
 "cells": [
  {
   "cell_type": "markdown",
   "metadata": {},
   "source": [
    "# What we want to do ?\n",
    "\n",
    "When we want to plot mesh it cost a lot to code."
   ]
  },
  {
   "cell_type": "code",
   "execution_count": 1,
   "metadata": {},
   "outputs": [],
   "source": [
    "%matplotlib inline\n",
    "import meshio\n",
    "import matplotlib\n",
    "import getfem as gf\n",
    "import numpy as np\n",
    "import matplotlib.pyplot as plt"
   ]
  },
  {
   "cell_type": "code",
   "execution_count": 2,
   "metadata": {},
   "outputs": [],
   "source": [
    "m = gf.Mesh(\"cartesian\", np.arange(3), np.arange(3))"
   ]
  },
  {
   "cell_type": "code",
   "execution_count": 3,
   "metadata": {},
   "outputs": [],
   "source": [
    "m.export_to_vtk(\"m.vtk\", \"ascii\")"
   ]
  },
  {
   "cell_type": "code",
   "execution_count": 4,
   "metadata": {},
   "outputs": [
    {
     "name": "stdout",
     "output_type": "stream",
     "text": [
      "# vtk DataFile Version 2.0\n",
      "Exported by getfem++\n",
      "ASCII\n",
      "DATASET UNSTRUCTURED_GRID\n",
      "POINTS 9 float\n",
      " 0 0 0\n",
      " 1 0 0\n",
      " 0 1 0\n",
      " 1 1 0\n",
      " 2 0 0\n",
      " 2 1 0\n",
      " 0 2 0\n",
      " 1 2 0\n",
      " 2 2 0\n",
      "\n",
      "CELLS 4 20\n",
      " 4 0 1 3 2\n",
      " 4 1 4 5 3\n",
      " 4 2 3 7 6\n",
      " 4 3 5 8 7\n",
      "\n",
      "CELL_TYPES 4\n",
      " 9\n",
      " 9\n",
      " 9\n",
      " 9\n"
     ]
    }
   ],
   "source": [
    "!cat m.vtk"
   ]
  },
  {
   "cell_type": "code",
   "execution_count": 5,
   "metadata": {},
   "outputs": [],
   "source": [
    "mesh = meshio.read(\"m.vtk\")"
   ]
  },
  {
   "cell_type": "code",
   "execution_count": 6,
   "metadata": {},
   "outputs": [],
   "source": [
    "points = mesh.points\n",
    "cells = mesh.cells"
   ]
  },
  {
   "cell_type": "code",
   "execution_count": 7,
   "metadata": {},
   "outputs": [
    {
     "data": {
      "text/plain": [
       "[CellBlock(type='quad', data=array([[0, 1, 3, 2],\n",
       "        [1, 4, 5, 3],\n",
       "        [2, 3, 7, 6],\n",
       "        [3, 5, 8, 7]]))]"
      ]
     },
     "execution_count": 7,
     "metadata": {},
     "output_type": "execute_result"
    }
   ],
   "source": [
    "cells"
   ]
  },
  {
   "cell_type": "code",
   "execution_count": 8,
   "metadata": {},
   "outputs": [
    {
     "data": {
      "image/png": "[encoded data removed]",
      "text/plain": [
       "<Figure size 432x288 with 1 Axes>"
      ]
     },
     "metadata": {
      "needs_background": "light"
     },
     "output_type": "display_data"
    }
   ],
   "source": [
    "figure = plt.figure()\n",
    "axe = figure.add_subplot(111)\n",
    "for cell in cells:\n",
    "    for index in cell.data:\n",
    "        polygon = plt.Polygon(\n",
    "            (\n",
    "                (points[index[0], 0], points[index[0], 1]),\n",
    "                (points[index[1], 0], points[index[1], 1]),\n",
    "                (points[index[2], 0], points[index[2], 1]),\n",
    "                (points[index[3], 0], points[index[3], 1]),\n",
    "            ),\n",
    "            edgecolor=\"black\",\n",
    "            facecolor=\"gray\",\n",
    "        )\n",
    "        axe.add_patch(polygon)\n",
    "axe.set_aspect(\"equal\")\n",
    "plt.xlim(-1.0, 3.0)\n",
    "plt.ylim(-1.0, 3.0)\n",
    "plt.show()"
   ]
  },
  {
   "cell_type": "code",
   "execution_count": 9,
   "metadata": {},
   "outputs": [
    {
     "data": {
      "text/plain": [
       "\u001b[0;31mType:\u001b[0m            AxesSubplot\n",
       "\u001b[0;31mString form:\u001b[0m     AxesSubplot(0.260833,0.125;0.503333x0.755)\n",
       "\u001b[0;31mFile:\u001b[0m            /usr/local/lib/python3.8/dist-packages/matplotlib/axes/_subplots.py\n",
       "\u001b[0;31mDocstring:\u001b[0m       <no docstring>\n",
       "\u001b[0;31mClass docstring:\u001b[0m\n",
       "Base class for subplots, which are :class:`Axes` instances with\n",
       "additional methods to facilitate generating and manipulating a set\n",
       "of :class:`Axes` within a figure.\n",
       "\u001b[0;31mInit docstring:\u001b[0m \n",
       "Parameters\n",
       "----------\n",
       "fig : `matplotlib.figure.Figure`\n",
       "\n",
       "*args : tuple (*nrows*, *ncols*, *index*) or int\n",
       "    The array of subplots in the figure has dimensions ``(nrows,\n",
       "    ncols)``, and *index* is the index of the subplot being created.\n",
       "    *index* starts at 1 in the upper left corner and increases to the\n",
       "    right.\n",
       "\n",
       "    If *nrows*, *ncols*, and *index* are all single digit numbers, then\n",
       "    *args* can be passed as a single 3-digit number (e.g. 234 for\n",
       "    (2, 3, 4)).\n",
       "\n",
       "**kwargs\n",
       "    Keyword arguments are passed to the Axes (sub)class constructor.\n"
      ]
     },
     "metadata": {},
     "output_type": "display_data"
    }
   ],
   "source": [
    "axe?"
   ]
  },
  {
   "cell_type": "markdown",
   "metadata": {},
   "source": [
    "# What we can do in meshioplt\n",
    "\n",
    "We can read mesh file and write to AxesSubplot. We can use AxesSubplot as matplotlib's AxesSubplot"
   ]
  },
  {
   "cell_type": "code",
   "execution_count": 10,
   "metadata": {},
   "outputs": [
    {
     "data": {
      "image/png": "[encoded data removed]",
      "text/plain": [
       "<Figure size 432x288 with 1 Axes>"
      ]
     },
     "metadata": {
      "needs_background": "light"
     },
     "output_type": "display_data"
    }
   ],
   "source": [
    "from meshioplt import mesh_patches\n",
    "\n",
    "figure = plt.figure()\n",
    "axe = figure.add_subplot(111)\n",
    "patches = mesh_patches(\"m.vtk\")\n",
    "for patch in patches:\n",
    "    axe.add_patch(patch)\n",
    "axe.set_aspect(\"equal\")\n",
    "plt.xlim(-1.0, 3.0)\n",
    "plt.ylim(-1.0, 3.0)\n",
    "plt.show()"
   ]
  }
 ],
 "metadata": {
  "kernelspec": {
   "display_name": "Python 3",
   "language": "python",
   "name": "python3"
  },
  "language_info": {
   "codemirror_mode": {
    "name": "ipython",
    "version": 3
   },
   "file_extension": ".py",
   "mimetype": "text/x-python",
   "name": "python",
   "nbconvert_exporter": "python",
   "pygments_lexer": "ipython3",
   "version": "3.8.2"
  }
 },
 "nbformat": 4,
 "nbformat_minor": 4
}
